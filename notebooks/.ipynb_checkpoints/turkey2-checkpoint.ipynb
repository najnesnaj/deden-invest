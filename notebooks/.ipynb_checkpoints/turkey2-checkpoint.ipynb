{
 "cells": [
  {
   "cell_type": "markdown",
   "id": "de9f67fa",
   "metadata": {},
   "source": [
    "## EM Turkey ##\n",
    "### relationship between currency rate - bondmarket - stockexchange ###\n",
    "\n",
    "Turkey is right now (22/01/22) not the place to invest, but it is really interesting because a lot is happening.\n",
    "\n",
    "I'm particularly interested in the relation between currency (Forex) and stock market. I do not have acces to detailled data, which is partly due to me pennypinching...\n",
    "\n",
    "From september 5th (8.5) till december 19th (16.70) the Turkish Lira dropped almost half in value.\n",
    "An intervention of the Turkish national bank (selling of reserves) got the Lira back up till (13).\n",
    "\n",
    "A report from EMFI predicts an inversion of the yield curve and an inflation of (70%)!! for 2022.\n",
    "\"SELL\" is the advice to bondowners ....\n",
    "\n",
    "Future outlook : an inversion of the yield curve in the US is a reasonable predictor of recession.\n",
    "So somewhere 2022-2023 there should be a buying opportunity.\n",
    "\n",
    "\n",
    "$$\\beta\\Gamma$$"
   ]
  },
  {
   "cell_type": "code",
   "execution_count": 1,
   "id": "f92e4fef",
   "metadata": {},
   "outputs": [],
   "source": [
    "import requests     # 2.18.4\n",
    "import pandas as pd # 0.23.0\n",
    "import io\n",
    "import datetime"
   ]
  },
  {
   "cell_type": "code",
   "execution_count": 2,
   "id": "868cc237",
   "metadata": {},
   "outputs": [
    {
     "name": "stdout",
     "output_type": "stream",
     "text": [
      "2022-06-03\n"
     ]
    }
   ],
   "source": [
    "today = datetime.datetime.now().strftime('%Y-%m-%d')\n",
    "print (today)"
   ]
  },
  {
   "cell_type": "code",
   "execution_count": 3,
   "id": "b1599b86-e572-446a-a891-38055f9109d6",
   "metadata": {},
   "outputs": [
    {
     "name": "stdout",
     "output_type": "stream",
     "text": [
      "<Response [200]>\n"
     ]
    }
   ],
   "source": [
    "# Building blocks for the URL\n",
    "entrypoint = 'https://sdw-wsrest.ecb.europa.eu/service/' # Using protocol 'https'\n",
    "resource = 'data'           # The resource for data queries is always'data'\n",
    "flowRef ='EXR'              # Dataflow describing the data that needs to be returned, exchange rates in this case\n",
    "key = 'D.TRY.EUR.SP00.A'    # Defining the dimension values, explained below\n",
    "\n",
    "# Define the parameters\n",
    "parameters = {\n",
    "    'startPeriod': '2021-01-01',  # Start date of the time series\n",
    "#    'endPeriod': '2021-12-29'     # End of the time series\n",
    "    'endPeriod': today     # End of the time series\n",
    "}\n",
    "\n",
    "# Construct the URL: https://sdw-wsrest.ecb.europa.eu/service/data/EXR/D.CHF.EUR.SP00.A\n",
    "request_url = entrypoint + resource + '/'+ flowRef + '/' + key\n",
    "\n",
    "# Make the HTTP request\n",
    "#response = requests.get(request_url, params=parameters)\n",
    "\n",
    "response = requests.get(request_url, params=parameters, headers={'Accept': 'text/csv'})\n",
    "# Response succesful? (Response code 200)\n",
    "print(response)\n",
    "\n",
    "# Print the first 1000 characters to inspect the response\n",
    "#response.text[0:1000]\n",
    "\n",
    "# Read the response as a file into a Pandas DataFrame\n",
    "df = pd.read_csv(io.StringIO(response.text))"
   ]
  },
  {
   "cell_type": "code",
   "execution_count": 4,
   "id": "fd005a5d",
   "metadata": {},
   "outputs": [],
   "source": [
    "#df"
   ]
  },
  {
   "cell_type": "code",
   "execution_count": 5,
   "id": "aab424f1",
   "metadata": {},
   "outputs": [],
   "source": [
    "# Check the DataFrame's information\n",
    "#df.info()"
   ]
  },
  {
   "cell_type": "code",
   "execution_count": 6,
   "id": "96eff6e6",
   "metadata": {},
   "outputs": [],
   "source": [
    "# Show the last 5 entries of the DataFrame\n",
    "#df.tail()"
   ]
  },
  {
   "cell_type": "markdown",
   "id": "58d90184",
   "metadata": {},
   "source": [
    "The columns we need are 'TIME_PERIOD' for the dates and 'OBS_VALUE' for the prices. Let's also do a sanity check on the prices in 'OBS_VALUE'."
   ]
  },
  {
   "cell_type": "code",
   "execution_count": 7,
   "id": "a21d3cc8",
   "metadata": {},
   "outputs": [
    {
     "data": {
      "text/plain": [
       "count    365.000000\n",
       "mean      12.101553\n",
       "std        2.955928\n",
       "min        8.397500\n",
       "25%        9.918900\n",
       "50%       10.361000\n",
       "75%       15.483800\n",
       "max       20.043400\n",
       "Name: OBS_VALUE, dtype: float64"
      ]
     },
     "execution_count": 7,
     "metadata": {},
     "output_type": "execute_result"
    }
   ],
   "source": [
    "# Inspect the prices. Do the mean, minimum and maximum make sense?\n",
    "df['OBS_VALUE'].describe()"
   ]
  },
  {
   "cell_type": "code",
   "execution_count": 8,
   "id": "3f057d43",
   "metadata": {},
   "outputs": [
    {
     "data": {
      "text/html": [
       "<div>\n",
       "<style scoped>\n",
       "    .dataframe tbody tr th:only-of-type {\n",
       "        vertical-align: middle;\n",
       "    }\n",
       "\n",
       "    .dataframe tbody tr th {\n",
       "        vertical-align: top;\n",
       "    }\n",
       "\n",
       "    .dataframe thead th {\n",
       "        text-align: right;\n",
       "    }\n",
       "</style>\n",
       "<table border=\"1\" class=\"dataframe\">\n",
       "  <thead>\n",
       "    <tr style=\"text-align: right;\">\n",
       "      <th></th>\n",
       "      <th>OBS_VALUE</th>\n",
       "    </tr>\n",
       "    <tr>\n",
       "      <th>TIME_PERIOD</th>\n",
       "      <th></th>\n",
       "    </tr>\n",
       "  </thead>\n",
       "  <tbody>\n",
       "    <tr>\n",
       "      <th>2021-01-04</th>\n",
       "      <td>NaN</td>\n",
       "    </tr>\n",
       "    <tr>\n",
       "      <th>2021-01-05</th>\n",
       "      <td>0.001270</td>\n",
       "    </tr>\n",
       "    <tr>\n",
       "      <th>2021-01-06</th>\n",
       "      <td>-0.001544</td>\n",
       "    </tr>\n",
       "    <tr>\n",
       "      <th>2021-01-07</th>\n",
       "      <td>-0.006261</td>\n",
       "    </tr>\n",
       "    <tr>\n",
       "      <th>2021-01-08</th>\n",
       "      <td>0.001767</td>\n",
       "    </tr>\n",
       "    <tr>\n",
       "      <th>...</th>\n",
       "      <td>...</td>\n",
       "    </tr>\n",
       "    <tr>\n",
       "      <th>2022-05-27</th>\n",
       "      <td>0.001321</td>\n",
       "    </tr>\n",
       "    <tr>\n",
       "      <th>2022-05-30</th>\n",
       "      <td>0.003390</td>\n",
       "    </tr>\n",
       "    <tr>\n",
       "      <th>2022-05-31</th>\n",
       "      <td>-0.003395</td>\n",
       "    </tr>\n",
       "    <tr>\n",
       "      <th>2022-06-01</th>\n",
       "      <td>0.002309</td>\n",
       "    </tr>\n",
       "    <tr>\n",
       "      <th>2022-06-02</th>\n",
       "      <td>-0.000272</td>\n",
       "    </tr>\n",
       "  </tbody>\n",
       "</table>\n",
       "<p>365 rows × 1 columns</p>\n",
       "</div>"
      ],
      "text/plain": [
       "             OBS_VALUE\n",
       "TIME_PERIOD           \n",
       "2021-01-04         NaN\n",
       "2021-01-05    0.001270\n",
       "2021-01-06   -0.001544\n",
       "2021-01-07   -0.006261\n",
       "2021-01-08    0.001767\n",
       "...                ...\n",
       "2022-05-27    0.001321\n",
       "2022-05-30    0.003390\n",
       "2022-05-31   -0.003395\n",
       "2022-06-01    0.002309\n",
       "2022-06-02   -0.000272\n",
       "\n",
       "[365 rows x 1 columns]"
      ]
     },
     "execution_count": 8,
     "metadata": {},
     "output_type": "execute_result"
    }
   ],
   "source": [
    "# Create a new DataFrame called 'ts'\n",
    "ts = df.filter(['TIME_PERIOD', 'OBS_VALUE'], axis=1)\n",
    "# 'TIME_PERIOD' was of type 'object' (as seen in df.info). Convert it to datetime first\n",
    "ts['TIME_PERIOD'] = pd.to_datetime(ts['TIME_PERIOD'])\n",
    "# Set 'TIME_PERIOD' to be the index\n",
    "ts = ts.set_index('TIME_PERIOD')\n",
    "# Print the last 5 rows to screen\n",
    "#ts.head(17)\n",
    "ts.pct_change()"
   ]
  },
  {
   "cell_type": "markdown",
   "id": "4bc41a1d",
   "metadata": {},
   "source": [
    "the spike is the FX - market is 2021-12-20 where you get\t20.0434 Lira for 1 Euro.\n",
    "\n",
    "The stockmarket came down on monday 20/12."
   ]
  },
  {
   "cell_type": "code",
   "execution_count": 9,
   "id": "afb425de",
   "metadata": {},
   "outputs": [
    {
     "data": {
      "text/plain": [
       "<AxesSubplot:xlabel='TIME_PERIOD'>"
      ]
     },
     "execution_count": 9,
     "metadata": {},
     "output_type": "execute_result"
    },
    {
     "data": {
      "image/png": "[encoded data removed]",
      "text/plain": [
       "<Figure size 432x288 with 1 Axes>"
      ]
     },
     "metadata": {
      "needs_background": "light"
     },
     "output_type": "display_data"
    }
   ],
   "source": [
    "%matplotlib inline\n",
    "ts.pct_change().plot()"
   ]
  },
  {
   "cell_type": "markdown",
   "id": "87fc8fac",
   "metadata": {},
   "source": [
    "OK another spike on 2021-03 .... what happened on stock exchange?\n"
   ]
  },
  {
   "cell_type": "markdown",
   "id": "4ad78abc",
   "metadata": {},
   "source": [
    "Turkish lira against EURO - data taken from ECB, you can see a spike at december 20th.\n",
    "Subsequently there is an intervention from the Turkish national bank, supporting the Turkish lira : \n",
    "- statement by president Erdogan\n",
    "- sell of foreign reserves\n",
    "\n",
    "The new deposit scheme, called byBloomberg a rate increase in disguise, could be short-term gain and long\u0002term pain, as the mechanism basically transfers FX risks from the private sector to the government, with the\n",
    "latter guaranteeing depositor’s returns by covering any losses caused by a depreciation in the lira, as long as\n",
    "those losses exceed the bank’s interest rates. This in eAect creates a liability for the government, which would\n",
    "come back to bite in case the lira weakens again. To make matters worse, authorities might choose to monetize\n",
    "the obligation, thus putting more pressure on inCation and the lira, creating a vicious cycle that could get out of\n",
    "\n",
    "Summarizing, Turkey’s outlook includes more inflation, more long-term currency depreciation and no interest\n",
    "rate hikes to correct these moves; on the contrary, it looks like the president will continue to blame everybody\n",
    "and everything else but his beliefs. Brace yourself, Turkey.\n"
   ]
  },
  {
   "cell_type": "markdown",
   "id": "5a70f70b",
   "metadata": {},
   "source": [
    "Now we import data from the turkish stock exchange, we use the iShares MSCI Turkey."
   ]
  },
  {
   "cell_type": "code",
   "execution_count": 10,
   "id": "2f947343",
   "metadata": {},
   "outputs": [],
   "source": [
    "import yfinance as yf"
   ]
  },
  {
   "cell_type": "code",
   "execution_count": 11,
   "id": "1fd5fcf9",
   "metadata": {},
   "outputs": [
    {
     "name": "stdout",
     "output_type": "stream",
     "text": [
      "[*********************100%***********************]  1 of 1 completed\n"
     ]
    },
    {
     "data": {
      "text/html": [
       "<div>\n",
       "<style scoped>\n",
       "    .dataframe tbody tr th:only-of-type {\n",
       "        vertical-align: middle;\n",
       "    }\n",
       "\n",
       "    .dataframe tbody tr th {\n",
       "        vertical-align: top;\n",
       "    }\n",
       "\n",
       "    .dataframe thead th {\n",
       "        text-align: right;\n",
       "    }\n",
       "</style>\n",
       "<table border=\"1\" class=\"dataframe\">\n",
       "  <thead>\n",
       "    <tr style=\"text-align: right;\">\n",
       "      <th></th>\n",
       "      <th>Open</th>\n",
       "      <th>High</th>\n",
       "      <th>Low</th>\n",
       "      <th>Close</th>\n",
       "      <th>Adj Close</th>\n",
       "      <th>Volume</th>\n",
       "    </tr>\n",
       "    <tr>\n",
       "      <th>Date</th>\n",
       "      <th></th>\n",
       "      <th></th>\n",
       "      <th></th>\n",
       "      <th></th>\n",
       "      <th></th>\n",
       "      <th></th>\n",
       "    </tr>\n",
       "  </thead>\n",
       "  <tbody>\n",
       "    <tr>\n",
       "      <th>2021-12-08</th>\n",
       "      <td>19.860001</td>\n",
       "      <td>19.950001</td>\n",
       "      <td>19.650000</td>\n",
       "      <td>19.900000</td>\n",
       "      <td>19.808952</td>\n",
       "      <td>306300</td>\n",
       "    </tr>\n",
       "    <tr>\n",
       "      <th>2021-12-09</th>\n",
       "      <td>20.000000</td>\n",
       "      <td>20.100000</td>\n",
       "      <td>19.610001</td>\n",
       "      <td>19.680000</td>\n",
       "      <td>19.589960</td>\n",
       "      <td>398400</td>\n",
       "    </tr>\n",
       "    <tr>\n",
       "      <th>2021-12-10</th>\n",
       "      <td>19.840000</td>\n",
       "      <td>19.930000</td>\n",
       "      <td>19.690001</td>\n",
       "      <td>19.889999</td>\n",
       "      <td>19.798998</td>\n",
       "      <td>177100</td>\n",
       "    </tr>\n",
       "    <tr>\n",
       "      <th>2021-12-13</th>\n",
       "      <td>20.260000</td>\n",
       "      <td>20.680000</td>\n",
       "      <td>20.260000</td>\n",
       "      <td>20.480000</td>\n",
       "      <td>20.480000</td>\n",
       "      <td>461600</td>\n",
       "    </tr>\n",
       "    <tr>\n",
       "      <th>2021-12-14</th>\n",
       "      <td>20.350000</td>\n",
       "      <td>20.580000</td>\n",
       "      <td>20.150000</td>\n",
       "      <td>20.430000</td>\n",
       "      <td>20.430000</td>\n",
       "      <td>397400</td>\n",
       "    </tr>\n",
       "    <tr>\n",
       "      <th>2021-12-15</th>\n",
       "      <td>20.049999</td>\n",
       "      <td>20.309999</td>\n",
       "      <td>19.820000</td>\n",
       "      <td>20.230000</td>\n",
       "      <td>20.230000</td>\n",
       "      <td>916600</td>\n",
       "    </tr>\n",
       "    <tr>\n",
       "      <th>2021-12-16</th>\n",
       "      <td>19.840000</td>\n",
       "      <td>19.950001</td>\n",
       "      <td>19.670000</td>\n",
       "      <td>19.879999</td>\n",
       "      <td>19.879999</td>\n",
       "      <td>496200</td>\n",
       "    </tr>\n",
       "    <tr>\n",
       "      <th>2021-12-17</th>\n",
       "      <td>17.400000</td>\n",
       "      <td>17.719999</td>\n",
       "      <td>16.969999</td>\n",
       "      <td>17.110001</td>\n",
       "      <td>17.110001</td>\n",
       "      <td>2584300</td>\n",
       "    </tr>\n",
       "    <tr>\n",
       "      <th>2021-12-20</th>\n",
       "      <td>15.290000</td>\n",
       "      <td>21.500000</td>\n",
       "      <td>15.000000</td>\n",
       "      <td>20.740000</td>\n",
       "      <td>20.740000</td>\n",
       "      <td>8629000</td>\n",
       "    </tr>\n",
       "    <tr>\n",
       "      <th>2021-12-21</th>\n",
       "      <td>19.500000</td>\n",
       "      <td>19.850000</td>\n",
       "      <td>18.430000</td>\n",
       "      <td>19.379999</td>\n",
       "      <td>19.379999</td>\n",
       "      <td>2271800</td>\n",
       "    </tr>\n",
       "  </tbody>\n",
       "</table>\n",
       "</div>"
      ],
      "text/plain": [
       "                 Open       High        Low      Close  Adj Close   Volume\n",
       "Date                                                                      \n",
       "2021-12-08  19.860001  19.950001  19.650000  19.900000  19.808952   306300\n",
       "2021-12-09  20.000000  20.100000  19.610001  19.680000  19.589960   398400\n",
       "2021-12-10  19.840000  19.930000  19.690001  19.889999  19.798998   177100\n",
       "2021-12-13  20.260000  20.680000  20.260000  20.480000  20.480000   461600\n",
       "2021-12-14  20.350000  20.580000  20.150000  20.430000  20.430000   397400\n",
       "2021-12-15  20.049999  20.309999  19.820000  20.230000  20.230000   916600\n",
       "2021-12-16  19.840000  19.950001  19.670000  19.879999  19.879999   496200\n",
       "2021-12-17  17.400000  17.719999  16.969999  17.110001  17.110001  2584300\n",
       "2021-12-20  15.290000  21.500000  15.000000  20.740000  20.740000  8629000\n",
       "2021-12-21  19.500000  19.850000  18.430000  19.379999  19.379999  2271800"
      ]
     },
     "execution_count": 11,
     "metadata": {},
     "output_type": "execute_result"
    }
   ],
   "source": [
    "dft = yf.download(\"TUR\",start='2021-11-01',end='2021-12-22')\n",
    "#dft.info()\n",
    "dft.tail(10)"
   ]
  },
  {
   "cell_type": "markdown",
   "id": "75afddc6",
   "metadata": {},
   "source": [
    "**What is happening on 2021-12-17 ?** \n",
    "People selling of, are well informed, but how?"
   ]
  },
  {
   "cell_type": "code",
   "execution_count": 12,
   "id": "826363d4",
   "metadata": {},
   "outputs": [],
   "source": [
    "#guess if you want to buy Low is more informative than high ;)\n",
    "dftfil=dft.filter(['Low'])"
   ]
  },
  {
   "cell_type": "code",
   "execution_count": 13,
   "id": "6e331fc9",
   "metadata": {},
   "outputs": [
    {
     "data": {
      "text/plain": [
       "<AxesSubplot:xlabel='Date'>"
      ]
     },
     "execution_count": 13,
     "metadata": {},
     "output_type": "execute_result"
    },
    {
     "data": {
      "image/png": "[encoded data removed]",
      "text/plain": [
       "<Figure size 432x288 with 1 Axes>"
      ]
     },
     "metadata": {
      "needs_background": "light"
     },
     "output_type": "display_data"
    }
   ],
   "source": [
    "#%matplotlib inline\n",
    "dftfil.plot()"
   ]
  },
  {
   "cell_type": "markdown",
   "id": "15ff069e",
   "metadata": {},
   "source": [
    "*graph is turkish MSCI index in dollar*"
   ]
  },
  {
   "cell_type": "code",
   "execution_count": 14,
   "id": "a7414042",
   "metadata": {},
   "outputs": [
    {
     "name": "stdout",
     "output_type": "stream",
     "text": [
      "[*********************100%***********************]  1 of 1 completed\n",
      "                    Low\n",
      "Date                   \n",
      "2021-12-15  2145.600098\n",
      "2021-12-16  2175.500000\n",
      "2021-12-17  2071.300049\n",
      "2021-12-20  1914.000000\n",
      "2021-12-21  1884.699951\n",
      "                   High\n",
      "Date                   \n",
      "2021-12-15  2195.100098\n",
      "2021-12-16  2278.600098\n",
      "2021-12-17  2406.899902\n",
      "2021-12-20  2149.399902\n",
      "2021-12-21  2103.600098\n"
     ]
    },
    {
     "data": {
      "text/plain": [
       "<AxesSubplot:xlabel='Date'>"
      ]
     },
     "execution_count": 14,
     "metadata": {},
     "output_type": "execute_result"
    },
    {
     "data": {
      "image/png": "[encoded data removed]",
      "text/plain": [
       "<Figure size 432x288 with 1 Axes>"
      ]
     },
     "metadata": {
      "needs_background": "light"
     },
     "output_type": "display_data"
    }
   ],
   "source": [
    "#istambul xu100 stock exchange price in LIRA\n",
    "dftis = yf.download(\"XU100.IS\",start='2021-12-15',end=today)\n",
    "dftfilis =dftis.filter(['Low'])\n",
    "print (dftfilis.head(5))\n",
    "dftfilis =dftis.filter(['High'])\n",
    "print (dftfilis.head(5))\n",
    "dftfilis.plot()"
   ]
  },
  {
   "cell_type": "code",
   "execution_count": 15,
   "id": "6bb0de9b",
   "metadata": {},
   "outputs": [
    {
     "name": "stdout",
     "output_type": "stream",
     "text": [
      "[*********************100%***********************]  1 of 1 completed\n"
     ]
    },
    {
     "data": {
      "text/plain": [
       "<AxesSubplot:xlabel='Date'>"
      ]
     },
     "execution_count": 15,
     "metadata": {},
     "output_type": "execute_result"
    },
    {
     "data": {
      "image/png": "[encoded data removed]",
      "text/plain": [
       "<Figure size 432x288 with 1 Axes>"
      ]
     },
     "metadata": {
      "needs_background": "light"
     },
     "output_type": "display_data"
    }
   ],
   "source": [
    "#istambul xu100 stock exchange price in LIRA\n",
    "dftis = yf.download(\"XU100.IS\",start='2021-01-01',end=today)\n",
    "dftfilis =dftis.filter(['Low'])\n",
    "dftfilis.pct_change().plot()"
   ]
  },
  {
   "cell_type": "code",
   "execution_count": 16,
   "id": "5ccaae53",
   "metadata": {},
   "outputs": [
    {
     "name": "stdout",
     "output_type": "stream",
     "text": [
      " daily spread of  :  13  %\n"
     ]
    }
   ],
   "source": [
    "XU1001217low=2071\n",
    "XU1001217high=2406\n",
    "print (\" daily spread of  : \",int(((XU1001217high-XU1001217low)/XU1001217high)*100), \" %\")"
   ]
  },
  {
   "cell_type": "markdown",
   "id": "c8f87b04",
   "metadata": {},
   "source": [
    "The big question is : could the exchange-rate rise be a warning?\n",
    "monday 2021-12-14\t16.2092\n",
    "tuesday 2021-12-15\t16.5612\n",
    "wednesdag 2021-12-16\t17.5824\n",
    "\n"
   ]
  },
  {
   "cell_type": "code",
   "execution_count": 17,
   "id": "8a6f7530",
   "metadata": {},
   "outputs": [
    {
     "name": "stdout",
     "output_type": "stream",
     "text": [
      "6.1662198391420935\n"
     ]
    }
   ],
   "source": [
    "print (((17.5824-16.5612)/16.5612)*100)"
   ]
  },
  {
   "cell_type": "markdown",
   "id": "ac8ef035",
   "metadata": {},
   "source": [
    "A currency change of 6 percent in one day? --- can I backtest this?\n",
    "Seems in March same thing happened."
   ]
  },
  {
   "cell_type": "code",
   "execution_count": 18,
   "id": "4b3c87d3-5d91-4ccd-8c66-051143e4af73",
   "metadata": {},
   "outputs": [
    {
     "name": "stdout",
     "output_type": "stream",
     "text": [
      "[*********************100%***********************]  1 of 1 completed\n"
     ]
    },
    {
     "data": {
      "text/plain": [
       "<AxesSubplot:xlabel='Date'>"
      ]
     },
     "execution_count": 18,
     "metadata": {},
     "output_type": "execute_result"
    },
    {
     "data": {
      "image/png": "[encoded data removed]",
      "text/plain": [
       "<Figure size 432x288 with 1 Axes>"
      ]
     },
     "metadata": {
      "needs_background": "light"
     },
     "output_type": "display_data"
    }
   ],
   "source": [
    "#istambul xu100 stock exchange price in LIRA\n",
    "dftis = yf.download(\"XU100.IS\",start='2021-03-01',end='2021-03-25')\n",
    "dftfilis =dftis.filter(['High'])\n",
    "dftfilis.pct_change().plot()\n"
   ]
  },
  {
   "cell_type": "code",
   "execution_count": 19,
   "id": "a91dcb62-3a5d-47bc-a909-f2872ea318e5",
   "metadata": {},
   "outputs": [
    {
     "data": {
      "text/html": [
       "<div>\n",
       "<style scoped>\n",
       "    .dataframe tbody tr th:only-of-type {\n",
       "        vertical-align: middle;\n",
       "    }\n",
       "\n",
       "    .dataframe tbody tr th {\n",
       "        vertical-align: top;\n",
       "    }\n",
       "\n",
       "    .dataframe thead th {\n",
       "        text-align: right;\n",
       "    }\n",
       "</style>\n",
       "<table border=\"1\" class=\"dataframe\">\n",
       "  <thead>\n",
       "    <tr style=\"text-align: right;\">\n",
       "      <th></th>\n",
       "      <th>OBS_VALUE</th>\n",
       "    </tr>\n",
       "    <tr>\n",
       "      <th>TIME_PERIOD</th>\n",
       "      <th></th>\n",
       "    </tr>\n",
       "  </thead>\n",
       "  <tbody>\n",
       "    <tr>\n",
       "      <th>2021-01-04</th>\n",
       "      <td>9.0579</td>\n",
       "    </tr>\n",
       "    <tr>\n",
       "      <th>2021-01-05</th>\n",
       "      <td>9.0694</td>\n",
       "    </tr>\n",
       "    <tr>\n",
       "      <th>2021-01-06</th>\n",
       "      <td>9.0554</td>\n",
       "    </tr>\n",
       "    <tr>\n",
       "      <th>2021-01-07</th>\n",
       "      <td>8.9987</td>\n",
       "    </tr>\n",
       "    <tr>\n",
       "      <th>2021-01-08</th>\n",
       "      <td>9.0146</td>\n",
       "    </tr>\n",
       "    <tr>\n",
       "      <th>2021-01-11</th>\n",
       "      <td>9.0550</td>\n",
       "    </tr>\n",
       "    <tr>\n",
       "      <th>2021-01-12</th>\n",
       "      <td>9.1050</td>\n",
       "    </tr>\n",
       "    <tr>\n",
       "      <th>2021-01-13</th>\n",
       "      <td>9.0531</td>\n",
       "    </tr>\n",
       "    <tr>\n",
       "      <th>2021-01-14</th>\n",
       "      <td>8.9492</td>\n",
       "    </tr>\n",
       "    <tr>\n",
       "      <th>2021-01-15</th>\n",
       "      <td>9.0179</td>\n",
       "    </tr>\n",
       "    <tr>\n",
       "      <th>2021-01-18</th>\n",
       "      <td>9.0546</td>\n",
       "    </tr>\n",
       "    <tr>\n",
       "      <th>2021-01-19</th>\n",
       "      <td>9.0257</td>\n",
       "    </tr>\n",
       "    <tr>\n",
       "      <th>2021-01-20</th>\n",
       "      <td>9.0111</td>\n",
       "    </tr>\n",
       "    <tr>\n",
       "      <th>2021-01-21</th>\n",
       "      <td>8.9555</td>\n",
       "    </tr>\n",
       "    <tr>\n",
       "      <th>2021-01-22</th>\n",
       "      <td>9.0195</td>\n",
       "    </tr>\n",
       "    <tr>\n",
       "      <th>2021-01-25</th>\n",
       "      <td>8.9865</td>\n",
       "    </tr>\n",
       "    <tr>\n",
       "      <th>2021-01-26</th>\n",
       "      <td>8.9269</td>\n",
       "    </tr>\n",
       "  </tbody>\n",
       "</table>\n",
       "</div>"
      ],
      "text/plain": [
       "             OBS_VALUE\n",
       "TIME_PERIOD           \n",
       "2021-01-04      9.0579\n",
       "2021-01-05      9.0694\n",
       "2021-01-06      9.0554\n",
       "2021-01-07      8.9987\n",
       "2021-01-08      9.0146\n",
       "2021-01-11      9.0550\n",
       "2021-01-12      9.1050\n",
       "2021-01-13      9.0531\n",
       "2021-01-14      8.9492\n",
       "2021-01-15      9.0179\n",
       "2021-01-18      9.0546\n",
       "2021-01-19      9.0257\n",
       "2021-01-20      9.0111\n",
       "2021-01-21      8.9555\n",
       "2021-01-22      9.0195\n",
       "2021-01-25      8.9865\n",
       "2021-01-26      8.9269"
      ]
     },
     "execution_count": 19,
     "metadata": {},
     "output_type": "execute_result"
    }
   ],
   "source": [
    "ts.head(17)"
   ]
  },
  {
   "cell_type": "code",
   "execution_count": null,
   "id": "808fecf4-1987-4597-bdc0-91897bad3c05",
   "metadata": {},
   "outputs": [],
   "source": []
  }
 ],
 "metadata": {
  "kernelspec": {
   "display_name": "Python 3 (ipykernel)",
   "language": "python",
   "name": "python3"
  },
  "language_info": {
   "codemirror_mode": {
    "name": "ipython",
    "version": 3
   },
   "file_extension": ".py",
   "mimetype": "text/x-python",
   "name": "python",
   "nbconvert_exporter": "python",
   "pygments_lexer": "ipython3",
   "version": "3.8.5"
  }
 },
 "nbformat": 4,
 "nbformat_minor": 5
}
