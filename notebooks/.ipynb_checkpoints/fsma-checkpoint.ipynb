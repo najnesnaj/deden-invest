{
 "cells": [
  {
   "cell_type": "markdown",
   "id": "64d15c0a",
   "metadata": {},
   "source": [
    "This notebook executes selects on a local database.\n",
    "This datebase is filled from spidering the FSMA brussels insider trading website."
   ]
  },
  {
   "cell_type": "code",
   "execution_count": null,
   "id": "c685e99b",
   "metadata": {},
   "outputs": [],
   "source": [
    "import sqlite3"
   ]
  },
  {
   "cell_type": "code",
   "execution_count": null,
   "id": "d3f5d4b6",
   "metadata": {},
   "outputs": [],
   "source": [
    "conn = sqlite3.connect('sample2.sqlite')"
   ]
  },
  {
   "cell_type": "code",
   "execution_count": null,
   "id": "d9aeb4b8",
   "metadata": {},
   "outputs": [],
   "source": [
    "curs = conn.cursor()"
   ]
  },
  {
   "cell_type": "markdown",
   "id": "6a6f8a46",
   "metadata": {},
   "source": [
    "Here we'll have a look at all the transactions for a specific share #SOF.BR#, this can be replaced by whichever other that is registered on the Brussels Stock Exchange"
   ]
  },
  {
   "cell_type": "code",
   "execution_count": null,
   "id": "34617d9e",
   "metadata": {},
   "outputs": [],
   "source": [
    "curs.execute(\"SELECT * from analyse1 where \\\"ISIN-code financieel instrument\\\" = \\\"SOF.BR\\\";\").fetchall()\n"
   ]
  },
  {
   "cell_type": "markdown",
   "id": "d643c6dd",
   "metadata": {},
   "source": [
    "In the database, the purchase/sales price of the insiders was compared to the price on the day of creation.\n",
    "Now one can select all transactions for which an insider paid more than the current price upon purchasing.\n",
    "Or ... got less than the current price upon selling."
   ]
  },
  {
   "cell_type": "code",
   "execution_count": null,
   "id": "365b9191",
   "metadata": {},
   "outputs": [],
   "source": [
    "curs.execute(\"SELECT * from analyse1 where \\\"percentage\\\" <  \\\"-10\\\" and \\\"Soort transactie\\\" = \\\"              Aankoop / Verwerving\\\";\").fetchall()"
   ]
  }
 ],
 "metadata": {
  "kernelspec": {
   "display_name": "Python 3",
   "language": "python",
   "name": "python3"
  }
 },
 "nbformat": 4,
 "nbformat_minor": 5
}
