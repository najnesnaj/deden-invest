{
 "cells": [
  {
   "cell_type": "code",
   "execution_count": null,
   "id": "c685e99b",
   "metadata": {},
   "outputs": [],
   "source": [
    "import sqlite3"
   ]
  },
  {
   "cell_type": "code",
   "execution_count": null,
   "id": "d3f5d4b6",
   "metadata": {},
   "outputs": [],
   "source": [
    "conn = sqlite3.connect('sample2.sqlite')"
   ]
  },
  {
   "cell_type": "code",
   "execution_count": null,
   "id": "d9aeb4b8",
   "metadata": {},
   "outputs": [],
   "source": [
    "curs = conn.cursor()"
   ]
  },
  {
   "cell_type": "code",
   "execution_count": null,
   "id": "34617d9e",
   "metadata": {},
   "outputs": [],
   "source": [
    "curs.execute(\"SELECT * from analyse1 where \\\"ISIN-code financieel instrument\\\" = \\\"SOF.BR\\\";\").fetchall()"
   ]
  }
 ],
 "metadata": {
  "kernelspec": {
   "display_name": "Python 3",
   "language": "python",
   "name": "python3"
  }
 },
 "nbformat": 4,
 "nbformat_minor": 5
}
