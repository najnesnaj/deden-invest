{
 "cells": [
  {
   "cell_type": "code",
   "execution_count": null,
   "id": "3612e17d",
   "metadata": {},
   "outputs": [],
   "source": [
    "import sqlite3"
   ]
  },
  {
   "cell_type": "code",
   "execution_count": null,
   "id": "0c56165f",
   "metadata": {},
   "outputs": [],
   "source": [
    "conn = sqlite3.connect('sample2.sqlite')"
   ]
  },
  {
   "cell_type": "code",
   "execution_count": null,
   "id": "0c51d5b6",
   "metadata": {},
   "outputs": [],
   "source": [
    "curs = conn.cursor()"
   ]
  },
  {
   "cell_type": "code",
   "execution_count": null,
   "id": "9219c17e",
   "metadata": {},
   "outputs": [],
   "source": [
    "curs.execute(\"SELECT * from analyse1;\").fetchall()"
   ]
  },
  {
   "cell_type": "code",
   "execution_count": null,
   "id": "01332ea0",
   "metadata": {},
   "outputs": [],
   "source": []
  }
 ],
 "metadata": {
  "kernelspec": {
   "display_name": "Python 3",
   "language": "python",
   "name": "python3"
  }
 },
 "nbformat": 4,
 "nbformat_minor": 5
}
