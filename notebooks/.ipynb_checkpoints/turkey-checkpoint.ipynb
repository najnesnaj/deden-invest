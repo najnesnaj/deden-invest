{
 "cells": [
  {
   "cell_type": "markdown",
   "id": "de9f67fa",
   "metadata": {},
   "source": [
    "## EM Turkey ##\n",
    "### relationship between currency rate - bondmarket - stockexchange ###\n",
    "\n",
    "Turkey is right now (22/01/22) not the place to invest, but it is really interesting because a lot is happening.\n",
    "\n",
    "I'm particularly interested in the relation between currency (Forex) and stock market. I do not have acces to detailled data, which is partly due to me pennypinching...\n",
    "\n",
    "From september 5th (8.5) till december 19th (16.70) the Turkish Lira dropped almost half in value.\n",
    "An intervention of the Turkish national bank (selling of reserves) got the Lira back up till (13).\n",
    "\n",
    "A report from EMFI predicts an inversion of the yield curve and an inflation of (70%)!! for 2022.\n",
    "\"SELL\" is the advice to bondowners ....\n",
    "\n",
    "Future outlook : an inversion of the yield curve in the US is a reasonable predictor of recession.\n",
    "So somewhere 2022-2023 there should be a buying opportunity.\n",
    "\n",
    "\n",
    "$$\\beta\\Gamma$$"
   ]
  },
  {
   "cell_type": "code",
   "execution_count": 1,
   "id": "f92e4fef",
   "metadata": {},
   "outputs": [],
   "source": [
    "import requests     # 2.18.4\n",
    "import pandas as pd # 0.23.0\n",
    "import io\n",
    "import datetime"
   ]
  },
  {
   "cell_type": "code",
   "execution_count": 2,
   "id": "868cc237",
   "metadata": {},
   "outputs": [
    {
     "name": "stdout",
     "output_type": "stream",
     "text": [
      "2022-01-21\n"
     ]
    }
   ],
   "source": [
    "today = datetime.datetime.now().strftime('%Y-%m-%d')\n",
    "print (today)"
   ]
  },
  {
   "cell_type": "code",
   "execution_count": 3,
   "id": "0ea965cc",
   "metadata": {},
   "outputs": [],
   "source": [
    "# Building blocks for the URL\n",
    "entrypoint = 'https://sdw-wsrest.ecb.europa.eu/service/' # Using protocol 'https'\n",
    "resource = 'data'           # The resource for data queries is always'data'\n",
    "flowRef ='EXR'              # Dataflow describing the data that needs to be returned, exchange rates in this case\n",
    "key = 'D.TRY.EUR.SP00.A'    # Defining the dimension values, explained below\n",
    "\n",
    "# Define the parameters\n",
    "parameters = {\n",
    "    'startPeriod': '2021-12-10',  # Start date of the time series\n",
    "#    'endPeriod': '2021-12-29'     # End of the time series\n",
    "    'endPeriod': today     # End of the time series\n",
    "}"
   ]
  },
  {
   "cell_type": "code",
   "execution_count": 4,
   "id": "b904aa0f",
   "metadata": {},
   "outputs": [
    {
     "name": "stdout",
     "output_type": "stream",
     "text": [
      "<Response [200]>\n",
      "https://sdw-wsrest.ecb.europa.eu/service/data/EXR/D.TRY.EUR.SP00.A?startPeriod=2021-12-10&endPeriod=2022-01-21\n"
     ]
    }
   ],
   "source": [
    "# Construct the URL: https://sdw-wsrest.ecb.europa.eu/service/data/EXR/D.CHF.EUR.SP00.A\n",
    "request_url = entrypoint + resource + '/'+ flowRef + '/' + key\n",
    "\n",
    "# Make the HTTP request\n",
    "response = requests.get(request_url, params=parameters)\n",
    "\n",
    "# Check if the response returns succesfully with response code 200\n",
    "print(response)\n",
    "\n",
    "# Print the full URL\n",
    "print(response.url)"
   ]
  },
  {
   "cell_type": "code",
   "execution_count": 5,
   "id": "ad23c89c",
   "metadata": {},
   "outputs": [
    {
     "name": "stdout",
     "output_type": "stream",
     "text": [
      "<?xml version=\"1.0\" encoding=\"UTF-8\"?><message:GenericData xmlns:message=\"http://www.sdmx.org/resources/sdmxml/schemas/v2_1/message\" xmlns:common=\"http://www.sdmx.org/resources/sdmxml/schemas/v2_1/common\" xmlns:xsi=\"http://www.w3.org/2001/XMLSchema-instance\" xmlns:generic=\"http://www.sdmx.org/resources/sdmxml/schemas/v2_1/data/generic\" xsi:schemaLocation=\"http://www.sdmx.org/resources/sdmxml/schemas/v2_1/message https://sdw-wsrest.ecb.europa.eu:443/vocabulary/sdmx/2_1/SDMXMessage.xsd http://www.sdmx.org/resources/sdmxml/schemas/v2_1/common https://sdw-wsrest.ecb.europa.eu:443/vocabulary/sdmx/2_1/SDMXCommon.xsd http://www.sdmx.org/resources/sdmxml/schemas/v2_1/data/generic https://sdw-wsrest.ecb.europa.eu:443/vocabulary/sdmx/2_1/SDMXDataGeneric.xsd\">\n",
      "<message:Header>\n",
      "<message:ID>d8f96d33-050a-40e8-858c-501d32ddad84</message:ID>\n",
      "<message:Test>false</message:Test>\n",
      "<message:Prepared>2022-01-22T20:12:09.647+01:00</message:Prepared>\n",
      "<message:Sender id=\"ECB\"/>\n",
      "<message:Structure structureID=\"\n"
     ]
    }
   ],
   "source": [
    "# Print the first 1000 characters of the response\n",
    "print(response.text[0:1000])"
   ]
  },
  {
   "cell_type": "markdown",
   "id": "55d4afbb",
   "metadata": {},
   "source": [
    "Hmmm, the response is in XML. Not impossible, but also not the easiest format to work within Pandas. Fortunately, the ECB's API lets us get the data in CSV format by specifying it in the header of the request."
   ]
  },
  {
   "cell_type": "code",
   "execution_count": 6,
   "id": "b96bde7e",
   "metadata": {},
   "outputs": [
    {
     "name": "stdout",
     "output_type": "stream",
     "text": [
      "<Response [200]>\n"
     ]
    }
   ],
   "source": [
    "# Make the HTTP request again, now requesting for CSV format\n",
    "response = requests.get(request_url, params=parameters, headers={'Accept': 'text/csv'})\n",
    "# Response succesful? (Response code 200)\n",
    "print(response)"
   ]
  },
  {
   "cell_type": "code",
   "execution_count": 7,
   "id": "0229f10b",
   "metadata": {},
   "outputs": [],
   "source": [
    "# Print the first 1000 characters to inspect the response\n",
    "#response.text[0:1000]"
   ]
  },
  {
   "cell_type": "code",
   "execution_count": 8,
   "id": "37a5ed87",
   "metadata": {},
   "outputs": [],
   "source": [
    "# Read the response as a file into a Pandas DataFrame\n",
    "df = pd.read_csv(io.StringIO(response.text))"
   ]
  },
  {
   "cell_type": "code",
   "execution_count": 9,
   "id": "fd005a5d",
   "metadata": {},
   "outputs": [],
   "source": [
    "#df"
   ]
  },
  {
   "cell_type": "code",
   "execution_count": 10,
   "id": "aab424f1",
   "metadata": {},
   "outputs": [],
   "source": [
    "# Check the DataFrame's information\n",
    "#df.info()"
   ]
  },
  {
   "cell_type": "code",
   "execution_count": 11,
   "id": "96eff6e6",
   "metadata": {},
   "outputs": [],
   "source": [
    "# Show the last 5 entries of the DataFrame\n",
    "#df.tail()"
   ]
  },
  {
   "cell_type": "markdown",
   "id": "58d90184",
   "metadata": {},
   "source": [
    "The columns we need are 'TIME_PERIOD' for the dates and 'OBS_VALUE' for the prices. Let's also do a sanity check on the prices in 'OBS_VALUE'."
   ]
  },
  {
   "cell_type": "code",
   "execution_count": 12,
   "id": "a21d3cc8",
   "metadata": {},
   "outputs": [
    {
     "data": {
      "text/plain": [
       "count    31.000000\n",
       "mean     15.406803\n",
       "std       1.535368\n",
       "min      12.652500\n",
       "25%      14.898050\n",
       "50%      15.420700\n",
       "75%      15.707150\n",
       "max      20.043400\n",
       "Name: OBS_VALUE, dtype: float64"
      ]
     },
     "execution_count": 12,
     "metadata": {},
     "output_type": "execute_result"
    }
   ],
   "source": [
    "# Inspect the prices. Do the mean, minimum and maximum make sense?\n",
    "df['OBS_VALUE'].describe()"
   ]
  },
  {
   "cell_type": "code",
   "execution_count": 13,
   "id": "3f057d43",
   "metadata": {},
   "outputs": [
    {
     "data": {
      "text/html": [
       "<div>\n",
       "<style scoped>\n",
       "    .dataframe tbody tr th:only-of-type {\n",
       "        vertical-align: middle;\n",
       "    }\n",
       "\n",
       "    .dataframe tbody tr th {\n",
       "        vertical-align: top;\n",
       "    }\n",
       "\n",
       "    .dataframe thead th {\n",
       "        text-align: right;\n",
       "    }\n",
       "</style>\n",
       "<table border=\"1\" class=\"dataframe\">\n",
       "  <thead>\n",
       "    <tr style=\"text-align: right;\">\n",
       "      <th></th>\n",
       "      <th>OBS_VALUE</th>\n",
       "    </tr>\n",
       "    <tr>\n",
       "      <th>TIME_PERIOD</th>\n",
       "      <th></th>\n",
       "    </tr>\n",
       "  </thead>\n",
       "  <tbody>\n",
       "    <tr>\n",
       "      <th>2021-12-10</th>\n",
       "      <td>15.6908</td>\n",
       "    </tr>\n",
       "    <tr>\n",
       "      <th>2021-12-13</th>\n",
       "      <td>16.0525</td>\n",
       "    </tr>\n",
       "    <tr>\n",
       "      <th>2021-12-14</th>\n",
       "      <td>16.2092</td>\n",
       "    </tr>\n",
       "    <tr>\n",
       "      <th>2021-12-15</th>\n",
       "      <td>16.5612</td>\n",
       "    </tr>\n",
       "    <tr>\n",
       "      <th>2021-12-16</th>\n",
       "      <td>17.5824</td>\n",
       "    </tr>\n",
       "    <tr>\n",
       "      <th>2021-12-17</th>\n",
       "      <td>19.1155</td>\n",
       "    </tr>\n",
       "    <tr>\n",
       "      <th>2021-12-20</th>\n",
       "      <td>20.0434</td>\n",
       "    </tr>\n",
       "    <tr>\n",
       "      <th>2021-12-21</th>\n",
       "      <td>14.7132</td>\n",
       "    </tr>\n",
       "    <tr>\n",
       "      <th>2021-12-22</th>\n",
       "      <td>14.0719</td>\n",
       "    </tr>\n",
       "    <tr>\n",
       "      <th>2021-12-23</th>\n",
       "      <td>12.6525</td>\n",
       "    </tr>\n",
       "    <tr>\n",
       "      <th>2021-12-24</th>\n",
       "      <td>13.2402</td>\n",
       "    </tr>\n",
       "    <tr>\n",
       "      <th>2021-12-27</th>\n",
       "      <td>12.8099</td>\n",
       "    </tr>\n",
       "    <tr>\n",
       "      <th>2021-12-28</th>\n",
       "      <td>13.3521</td>\n",
       "    </tr>\n",
       "    <tr>\n",
       "      <th>2021-12-29</th>\n",
       "      <td>14.1525</td>\n",
       "    </tr>\n",
       "    <tr>\n",
       "      <th>2021-12-30</th>\n",
       "      <td>14.7184</td>\n",
       "    </tr>\n",
       "    <tr>\n",
       "      <th>2021-12-31</th>\n",
       "      <td>15.2335</td>\n",
       "    </tr>\n",
       "    <tr>\n",
       "      <th>2022-01-03</th>\n",
       "      <td>15.0777</td>\n",
       "    </tr>\n",
       "    <tr>\n",
       "      <th>2022-01-04</th>\n",
       "      <td>15.1384</td>\n",
       "    </tr>\n",
       "    <tr>\n",
       "      <th>2022-01-05</th>\n",
       "      <td>15.2446</td>\n",
       "    </tr>\n",
       "    <tr>\n",
       "      <th>2022-01-06</th>\n",
       "      <td>15.5504</td>\n",
       "    </tr>\n",
       "  </tbody>\n",
       "</table>\n",
       "</div>"
      ],
      "text/plain": [
       "             OBS_VALUE\n",
       "TIME_PERIOD           \n",
       "2021-12-10     15.6908\n",
       "2021-12-13     16.0525\n",
       "2021-12-14     16.2092\n",
       "2021-12-15     16.5612\n",
       "2021-12-16     17.5824\n",
       "2021-12-17     19.1155\n",
       "2021-12-20     20.0434\n",
       "2021-12-21     14.7132\n",
       "2021-12-22     14.0719\n",
       "2021-12-23     12.6525\n",
       "2021-12-24     13.2402\n",
       "2021-12-27     12.8099\n",
       "2021-12-28     13.3521\n",
       "2021-12-29     14.1525\n",
       "2021-12-30     14.7184\n",
       "2021-12-31     15.2335\n",
       "2022-01-03     15.0777\n",
       "2022-01-04     15.1384\n",
       "2022-01-05     15.2446\n",
       "2022-01-06     15.5504"
      ]
     },
     "execution_count": 13,
     "metadata": {},
     "output_type": "execute_result"
    }
   ],
   "source": [
    "# Create a new DataFrame called 'ts'\n",
    "ts = df.filter(['TIME_PERIOD', 'OBS_VALUE'], axis=1)\n",
    "# 'TIME_PERIOD' was of type 'object' (as seen in df.info). Convert it to datetime first\n",
    "ts['TIME_PERIOD'] = pd.to_datetime(ts['TIME_PERIOD'])\n",
    "# Set 'TIME_PERIOD' to be the index\n",
    "ts = ts.set_index('TIME_PERIOD')\n",
    "# Print the last 5 rows to screen\n",
    "ts.head(20)"
   ]
  },
  {
   "cell_type": "markdown",
   "id": "4bc41a1d",
   "metadata": {},
   "source": [
    "the spike is the FX - market is 2021-12-20 where you get\t20.0434 Lira for 1 Euro."
   ]
  },
  {
   "cell_type": "code",
   "execution_count": 14,
   "id": "afb425de",
   "metadata": {},
   "outputs": [
    {
     "data": {
      "text/plain": [
       "<AxesSubplot:xlabel='TIME_PERIOD'>"
      ]
     },
     "execution_count": 14,
     "metadata": {},
     "output_type": "execute_result"
    },
    {
     "data": {
      "image/png": "[encoded data removed]",
      "text/plain": [
       "<Figure size 432x288 with 1 Axes>"
      ]
     },
     "metadata": {
      "needs_background": "light"
     },
     "output_type": "display_data"
    }
   ],
   "source": [
    "%matplotlib inline\n",
    "ts.plot()"
   ]
  },
  {
   "cell_type": "markdown",
   "id": "4ad78abc",
   "metadata": {},
   "source": [
    "Turkish lira against EURO - data taken from ECB, you can see a spike at december 20th.\n",
    "Subsequently there is an intervention from the Turkish national bank, supporting the Turkish lira : \n",
    "- statement by president Erdogan\n",
    "- sell of foreign reserves\n",
    "\n",
    "The new deposit scheme, called byBloomberg a rate increase in disguise, could be short-term gain and long\u0002term pain, as the mechanism basically transfers FX risks from the private sector to the government, with the\n",
    "latter guaranteeing depositor’s returns by covering any losses caused by a depreciation in the lira, as long as\n",
    "those losses exceed the bank’s interest rates. This in eAect creates a liability for the government, which would\n",
    "come back to bite in case the lira weakens again. To make matters worse, authorities might choose to monetize\n",
    "the obligation, thus putting more pressure on inCation and the lira, creating a vicious cycle that could get out of\n",
    "\n",
    "Summarizing, Turkey’s outlook includes more inflation, more long-term currency depreciation and no interest\n",
    "rate hikes to correct these moves; on the contrary, it looks like the president will continue to blame everybody\n",
    "and everything else but his beliefs. Brace yourself, Turkey.\n"
   ]
  },
  {
   "cell_type": "markdown",
   "id": "5a70f70b",
   "metadata": {},
   "source": [
    "Now we import data from the turkish stock exchange, we use the iShares MSCI Turkey."
   ]
  },
  {
   "cell_type": "code",
   "execution_count": 31,
   "id": "2f947343",
   "metadata": {},
   "outputs": [],
   "source": [
    "import yfinance as yf"
   ]
  },
  {
   "cell_type": "code",
   "execution_count": 28,
   "id": "1fd5fcf9",
   "metadata": {},
   "outputs": [
    {
     "ename": "ValueError",
     "evalue": "time data '2021-15-12' does not match format '%Y-%m-%d'",
     "output_type": "error",
     "traceback": [
      "\u001b[0;31m---------------------------------------------------------------------------\u001b[0m",
      "\u001b[0;31mValueError\u001b[0m                                Traceback (most recent call last)",
      "\u001b[0;32m/tmp/ipykernel_121648/2730685577.py\u001b[0m in \u001b[0;36m<module>\u001b[0;34m\u001b[0m\n\u001b[0;32m----> 1\u001b[0;31m \u001b[0mdft\u001b[0m \u001b[0;34m=\u001b[0m \u001b[0myf\u001b[0m\u001b[0;34m.\u001b[0m\u001b[0mdownload\u001b[0m\u001b[0;34m(\u001b[0m\u001b[0;34m\"TUR\"\u001b[0m\u001b[0;34m,\u001b[0m\u001b[0mstart\u001b[0m\u001b[0;34m=\u001b[0m\u001b[0;34m'2021-15-12'\u001b[0m\u001b[0;34m,\u001b[0m\u001b[0mend\u001b[0m\u001b[0;34m=\u001b[0m\u001b[0mtoday\u001b[0m\u001b[0;34m)\u001b[0m\u001b[0;34m\u001b[0m\u001b[0;34m\u001b[0m\u001b[0m\n\u001b[0m\u001b[1;32m      2\u001b[0m \u001b[0;31m#dft.info()\u001b[0m\u001b[0;34m\u001b[0m\u001b[0;34m\u001b[0m\u001b[0;34m\u001b[0m\u001b[0m\n\u001b[1;32m      3\u001b[0m \u001b[0mdft\u001b[0m\u001b[0;34m.\u001b[0m\u001b[0mhead\u001b[0m\u001b[0;34m(\u001b[0m\u001b[0;36m10\u001b[0m\u001b[0;34m)\u001b[0m\u001b[0;34m\u001b[0m\u001b[0;34m\u001b[0m\u001b[0m\n",
      "\u001b[0;32m~/anaconda3/lib/python3.8/site-packages/yfinance/multi.py\u001b[0m in \u001b[0;36mdownload\u001b[0;34m(tickers, start, end, actions, threads, group_by, auto_adjust, back_adjust, progress, period, show_errors, interval, prepost, proxy, rounding, timeout, **kwargs)\u001b[0m\n\u001b[1;32m    103\u001b[0m         \u001b[0m_multitasking\u001b[0m\u001b[0;34m.\u001b[0m\u001b[0mset_max_threads\u001b[0m\u001b[0;34m(\u001b[0m\u001b[0mthreads\u001b[0m\u001b[0;34m)\u001b[0m\u001b[0;34m\u001b[0m\u001b[0;34m\u001b[0m\u001b[0m\n\u001b[1;32m    104\u001b[0m         \u001b[0;32mfor\u001b[0m \u001b[0mi\u001b[0m\u001b[0;34m,\u001b[0m \u001b[0mticker\u001b[0m \u001b[0;32min\u001b[0m \u001b[0menumerate\u001b[0m\u001b[0;34m(\u001b[0m\u001b[0mtickers\u001b[0m\u001b[0;34m)\u001b[0m\u001b[0;34m:\u001b[0m\u001b[0;34m\u001b[0m\u001b[0;34m\u001b[0m\u001b[0m\n\u001b[0;32m--> 105\u001b[0;31m             _download_one_threaded(ticker, period=period, interval=interval,\n\u001b[0m\u001b[1;32m    106\u001b[0m                                    \u001b[0mstart\u001b[0m\u001b[0;34m=\u001b[0m\u001b[0mstart\u001b[0m\u001b[0;34m,\u001b[0m \u001b[0mend\u001b[0m\u001b[0;34m=\u001b[0m\u001b[0mend\u001b[0m\u001b[0;34m,\u001b[0m \u001b[0mprepost\u001b[0m\u001b[0;34m=\u001b[0m\u001b[0mprepost\u001b[0m\u001b[0;34m,\u001b[0m\u001b[0;34m\u001b[0m\u001b[0;34m\u001b[0m\u001b[0m\n\u001b[1;32m    107\u001b[0m                                    \u001b[0mactions\u001b[0m\u001b[0;34m=\u001b[0m\u001b[0mactions\u001b[0m\u001b[0;34m,\u001b[0m \u001b[0mauto_adjust\u001b[0m\u001b[0;34m=\u001b[0m\u001b[0mauto_adjust\u001b[0m\u001b[0;34m,\u001b[0m\u001b[0;34m\u001b[0m\u001b[0;34m\u001b[0m\u001b[0m\n",
      "\u001b[0;32m~/anaconda3/lib/python3.8/site-packages/multitasking/__init__.py\u001b[0m in \u001b[0;36masync_method\u001b[0;34m(*args, **kwargs)\u001b[0m\n\u001b[1;32m    107\u001b[0m         \u001b[0;31m# no threads\u001b[0m\u001b[0;34m\u001b[0m\u001b[0;34m\u001b[0m\u001b[0;34m\u001b[0m\u001b[0m\n\u001b[1;32m    108\u001b[0m         \u001b[0;32mif\u001b[0m \u001b[0mconfig\u001b[0m\u001b[0;34m[\u001b[0m\u001b[0;34m\"POOLS\"\u001b[0m\u001b[0;34m]\u001b[0m\u001b[0;34m[\u001b[0m\u001b[0mconfig\u001b[0m\u001b[0;34m[\u001b[0m\u001b[0;34m\"POOL_NAME\"\u001b[0m\u001b[0;34m]\u001b[0m\u001b[0;34m]\u001b[0m\u001b[0;34m[\u001b[0m\u001b[0;34m'threads'\u001b[0m\u001b[0;34m]\u001b[0m \u001b[0;34m==\u001b[0m \u001b[0;36m0\u001b[0m\u001b[0;34m:\u001b[0m\u001b[0;34m\u001b[0m\u001b[0;34m\u001b[0m\u001b[0m\n\u001b[0;32m--> 109\u001b[0;31m             \u001b[0;32mreturn\u001b[0m \u001b[0mcallee\u001b[0m\u001b[0;34m(\u001b[0m\u001b[0;34m*\u001b[0m\u001b[0margs\u001b[0m\u001b[0;34m,\u001b[0m \u001b[0;34m**\u001b[0m\u001b[0mkwargs\u001b[0m\u001b[0;34m)\u001b[0m\u001b[0;34m\u001b[0m\u001b[0;34m\u001b[0m\u001b[0m\n\u001b[0m\u001b[1;32m    110\u001b[0m \u001b[0;34m\u001b[0m\u001b[0m\n\u001b[1;32m    111\u001b[0m         \u001b[0;31m# has threads\u001b[0m\u001b[0;34m\u001b[0m\u001b[0;34m\u001b[0m\u001b[0;34m\u001b[0m\u001b[0m\n",
      "\u001b[0;32m~/anaconda3/lib/python3.8/site-packages/yfinance/multi.py\u001b[0m in \u001b[0;36m_download_one_threaded\u001b[0;34m(ticker, start, end, auto_adjust, back_adjust, actions, progress, period, interval, prepost, proxy, rounding, timeout)\u001b[0m\n\u001b[1;32m    186\u001b[0m                            rounding=False, timeout=None):\n\u001b[1;32m    187\u001b[0m \u001b[0;34m\u001b[0m\u001b[0m\n\u001b[0;32m--> 188\u001b[0;31m     data = _download_one(ticker, start, end, auto_adjust, back_adjust,\n\u001b[0m\u001b[1;32m    189\u001b[0m                          \u001b[0mactions\u001b[0m\u001b[0;34m,\u001b[0m \u001b[0mperiod\u001b[0m\u001b[0;34m,\u001b[0m \u001b[0minterval\u001b[0m\u001b[0;34m,\u001b[0m \u001b[0mprepost\u001b[0m\u001b[0;34m,\u001b[0m \u001b[0mproxy\u001b[0m\u001b[0;34m,\u001b[0m \u001b[0mrounding\u001b[0m\u001b[0;34m,\u001b[0m\u001b[0;34m\u001b[0m\u001b[0;34m\u001b[0m\u001b[0m\n\u001b[1;32m    190\u001b[0m                          timeout)\n",
      "\u001b[0;32m~/anaconda3/lib/python3.8/site-packages/yfinance/multi.py\u001b[0m in \u001b[0;36m_download_one\u001b[0;34m(ticker, start, end, auto_adjust, back_adjust, actions, period, interval, prepost, proxy, rounding, timeout)\u001b[0m\n\u001b[1;32m    200\u001b[0m                   timeout=None):\n\u001b[1;32m    201\u001b[0m \u001b[0;34m\u001b[0m\u001b[0m\n\u001b[0;32m--> 202\u001b[0;31m     return Ticker(ticker).history(period=period, interval=interval,\n\u001b[0m\u001b[1;32m    203\u001b[0m                                   \u001b[0mstart\u001b[0m\u001b[0;34m=\u001b[0m\u001b[0mstart\u001b[0m\u001b[0;34m,\u001b[0m \u001b[0mend\u001b[0m\u001b[0;34m=\u001b[0m\u001b[0mend\u001b[0m\u001b[0;34m,\u001b[0m \u001b[0mprepost\u001b[0m\u001b[0;34m=\u001b[0m\u001b[0mprepost\u001b[0m\u001b[0;34m,\u001b[0m\u001b[0;34m\u001b[0m\u001b[0;34m\u001b[0m\u001b[0m\n\u001b[1;32m    204\u001b[0m                                   \u001b[0mactions\u001b[0m\u001b[0;34m=\u001b[0m\u001b[0mactions\u001b[0m\u001b[0;34m,\u001b[0m \u001b[0mauto_adjust\u001b[0m\u001b[0;34m=\u001b[0m\u001b[0mauto_adjust\u001b[0m\u001b[0;34m,\u001b[0m\u001b[0;34m\u001b[0m\u001b[0;34m\u001b[0m\u001b[0m\n",
      "\u001b[0;32m~/anaconda3/lib/python3.8/site-packages/yfinance/base.py\u001b[0m in \u001b[0;36mhistory\u001b[0;34m(self, period, interval, start, end, prepost, actions, auto_adjust, back_adjust, proxy, rounding, tz, timeout, **kwargs)\u001b[0m\n\u001b[1;32m    151\u001b[0m             \u001b[0;32melse\u001b[0m\u001b[0;34m:\u001b[0m\u001b[0;34m\u001b[0m\u001b[0;34m\u001b[0m\u001b[0m\n\u001b[1;32m    152\u001b[0m                 start = int(_time.mktime(\n\u001b[0;32m--> 153\u001b[0;31m                     _time.strptime(str(start), '%Y-%m-%d')))\n\u001b[0m\u001b[1;32m    154\u001b[0m             \u001b[0;32mif\u001b[0m \u001b[0mend\u001b[0m \u001b[0;32mis\u001b[0m \u001b[0;32mNone\u001b[0m\u001b[0;34m:\u001b[0m\u001b[0;34m\u001b[0m\u001b[0;34m\u001b[0m\u001b[0m\n\u001b[1;32m    155\u001b[0m                 \u001b[0mend\u001b[0m \u001b[0;34m=\u001b[0m \u001b[0mint\u001b[0m\u001b[0;34m(\u001b[0m\u001b[0m_time\u001b[0m\u001b[0;34m.\u001b[0m\u001b[0mtime\u001b[0m\u001b[0;34m(\u001b[0m\u001b[0;34m)\u001b[0m\u001b[0;34m)\u001b[0m\u001b[0;34m\u001b[0m\u001b[0;34m\u001b[0m\u001b[0m\n",
      "\u001b[0;32m~/anaconda3/lib/python3.8/_strptime.py\u001b[0m in \u001b[0;36m_strptime_time\u001b[0;34m(data_string, format)\u001b[0m\n\u001b[1;32m    560\u001b[0m     \"\"\"Return a time struct based on the input string and the\n\u001b[1;32m    561\u001b[0m     format string.\"\"\"\n\u001b[0;32m--> 562\u001b[0;31m     \u001b[0mtt\u001b[0m \u001b[0;34m=\u001b[0m \u001b[0m_strptime\u001b[0m\u001b[0;34m(\u001b[0m\u001b[0mdata_string\u001b[0m\u001b[0;34m,\u001b[0m \u001b[0mformat\u001b[0m\u001b[0;34m)\u001b[0m\u001b[0;34m[\u001b[0m\u001b[0;36m0\u001b[0m\u001b[0;34m]\u001b[0m\u001b[0;34m\u001b[0m\u001b[0;34m\u001b[0m\u001b[0m\n\u001b[0m\u001b[1;32m    563\u001b[0m     \u001b[0;32mreturn\u001b[0m \u001b[0mtime\u001b[0m\u001b[0;34m.\u001b[0m\u001b[0mstruct_time\u001b[0m\u001b[0;34m(\u001b[0m\u001b[0mtt\u001b[0m\u001b[0;34m[\u001b[0m\u001b[0;34m:\u001b[0m\u001b[0mtime\u001b[0m\u001b[0;34m.\u001b[0m\u001b[0m_STRUCT_TM_ITEMS\u001b[0m\u001b[0;34m]\u001b[0m\u001b[0;34m)\u001b[0m\u001b[0;34m\u001b[0m\u001b[0;34m\u001b[0m\u001b[0m\n\u001b[1;32m    564\u001b[0m \u001b[0;34m\u001b[0m\u001b[0m\n",
      "\u001b[0;32m~/anaconda3/lib/python3.8/_strptime.py\u001b[0m in \u001b[0;36m_strptime\u001b[0;34m(data_string, format)\u001b[0m\n\u001b[1;32m    347\u001b[0m     \u001b[0mfound\u001b[0m \u001b[0;34m=\u001b[0m \u001b[0mformat_regex\u001b[0m\u001b[0;34m.\u001b[0m\u001b[0mmatch\u001b[0m\u001b[0;34m(\u001b[0m\u001b[0mdata_string\u001b[0m\u001b[0;34m)\u001b[0m\u001b[0;34m\u001b[0m\u001b[0;34m\u001b[0m\u001b[0m\n\u001b[1;32m    348\u001b[0m     \u001b[0;32mif\u001b[0m \u001b[0;32mnot\u001b[0m \u001b[0mfound\u001b[0m\u001b[0;34m:\u001b[0m\u001b[0;34m\u001b[0m\u001b[0;34m\u001b[0m\u001b[0m\n\u001b[0;32m--> 349\u001b[0;31m         raise ValueError(\"time data %r does not match format %r\" %\n\u001b[0m\u001b[1;32m    350\u001b[0m                          (data_string, format))\n\u001b[1;32m    351\u001b[0m     \u001b[0;32mif\u001b[0m \u001b[0mlen\u001b[0m\u001b[0;34m(\u001b[0m\u001b[0mdata_string\u001b[0m\u001b[0;34m)\u001b[0m \u001b[0;34m!=\u001b[0m \u001b[0mfound\u001b[0m\u001b[0;34m.\u001b[0m\u001b[0mend\u001b[0m\u001b[0;34m(\u001b[0m\u001b[0;34m)\u001b[0m\u001b[0;34m:\u001b[0m\u001b[0;34m\u001b[0m\u001b[0;34m\u001b[0m\u001b[0m\n",
      "\u001b[0;31mValueError\u001b[0m: time data '2021-15-12' does not match format '%Y-%m-%d'"
     ]
    }
   ],
   "source": [
    "dft = yf.download(\"TUR\",start='2021-15-12',end=today)\n",
    "#dft.info()\n",
    "dft.head(10)"
   ]
  },
  {
   "cell_type": "markdown",
   "id": "75afddc6",
   "metadata": {},
   "source": [
    "you can see : 2021-12-20 a\t15.290000 low, which is same date as currency hike.\n",
    "**hypothesis:** somebody is closely watching exchange rate on spot market and hits \"sell-button\" on stock-exchange?"
   ]
  },
  {
   "cell_type": "code",
   "execution_count": 17,
   "id": "826363d4",
   "metadata": {},
   "outputs": [],
   "source": [
    "#guess if you want to buy Low is more informative than high ;)\n",
    "dftfil=dft.filter(['Low'])"
   ]
  },
  {
   "cell_type": "code",
   "execution_count": 18,
   "id": "6e331fc9",
   "metadata": {},
   "outputs": [
    {
     "data": {
      "text/plain": [
       "<AxesSubplot:xlabel='Date'>"
      ]
     },
     "execution_count": 18,
     "metadata": {},
     "output_type": "execute_result"
    },
    {
     "data": {
      "image/png": "[encoded data removed]",
      "text/plain": [
       "<Figure size 432x288 with 1 Axes>"
      ]
     },
     "metadata": {
      "needs_background": "light"
     },
     "output_type": "display_data"
    }
   ],
   "source": [
    "#%matplotlib inline\n",
    "dftfil.plot()"
   ]
  },
  {
   "cell_type": "markdown",
   "id": "15ff069e",
   "metadata": {},
   "source": [
    "*graph is turkish MSCI index in dollar*"
   ]
  },
  {
   "cell_type": "code",
   "execution_count": 19,
   "id": "a7414042",
   "metadata": {},
   "outputs": [
    {
     "name": "stdout",
     "output_type": "stream",
     "text": [
      "[*********************100%***********************]  1 of 1 completed\n",
      "                    Low\n",
      "Date                   \n",
      "2021-12-17  2071.300049\n",
      "2021-12-20  1914.000000\n",
      "2021-12-21  1884.699951\n",
      "2021-12-22  1783.800049\n",
      "2021-12-23  1726.300049\n"
     ]
    }
   ],
   "source": [
    "#istambul xu100 stock exchange price in LIRA\n",
    "dftis = yf.download(\"XU100.IS\",start='2021-12-17',end=today)\n",
    "dftfilis =dftis.filter(['Low'])\n",
    "print (dftfilis.head(5))\n",
    "dftfilis.plot()"
   ]
  },
  {
   "cell_type": "code",
   "execution_count": 27,
   "id": "28b3d928",
   "metadata": {},
   "outputs": [
    {
     "name": "stdout",
     "output_type": "stream",
     "text": [
      " a drop in the stock market by :  16  %\n"
     ]
    }
   ],
   "source": [
    "XU1001217=2071\n",
    "XU1001223=1726\n",
    "print (\" a drop in the stock market by : \",int(((XU1001217-XU1001223)/XU1001217)*100), \" %\")"
   ]
  },
  {
   "cell_type": "markdown",
   "id": "b7143c0a",
   "metadata": {},
   "source": [
    "in order to get inflation data (which is probably even higher) a technique \"webscraping\" is used"
   ]
  },
  {
   "cell_type": "code",
   "execution_count": 20,
   "id": "4a82f42f",
   "metadata": {},
   "outputs": [
    {
     "name": "stdout",
     "output_type": "stream",
     "text": [
      "<Response [200]>\n",
      "test\n"
     ]
    }
   ],
   "source": [
    "# Making a GET request\n",
    "import requests  \n",
    "r = requests.get('https://www.tcmb.gov.tr/wps/wcm/connect/EN/TCMB+EN/Main+Menu/Statistics/Inflation+Data/Consumer+Prices')\n",
    "#r = requests.get('http://www.worldgovernmentbonds.com/bond-forecast/turkey/1-year/')\n",
    "# check status code for response received\n",
    "# success code - 200\n",
    "print(r)\n",
    "print (\"test\")"
   ]
  },
  {
   "cell_type": "code",
   "execution_count": 21,
   "id": "0762df30",
   "metadata": {},
   "outputs": [],
   "source": [
    "# print content of request\n",
    "#print(r.content)\n",
    "# seems unusable"
   ]
  },
  {
   "cell_type": "markdown",
   "id": "dd467b60",
   "metadata": {},
   "source": [
    "Credit Default Swaps – different types\n",
    "for CDS on ABS - continued\n",
    "- Fixed Cap: Maximum amount that the protection seller \n",
    "has to pay buyer is the Fixed Rate\n",
    "- Variable Cap: Protection seller has to make up any \n",
    "interest shortfall on the bond up to LIBOR plus the \n",
    "Fixed Rate\n",
    "- No Cap: Protection seller has to make up any interest \n",
    "shortfall on the bond\n"
   ]
  },
  {
   "cell_type": "markdown",
   "id": "bc8954eb",
   "metadata": {},
   "source": [
    "*is there a way to get a headstart in information about currency : libor rate, cds ... ?*"
   ]
  },
  {
   "cell_type": "code",
   "execution_count": null,
   "id": "8da3856a",
   "metadata": {},
   "outputs": [],
   "source": []
  }
 ],
 "metadata": {
  "kernelspec": {
   "display_name": "Python 3 (ipykernel)",
   "language": "python",
   "name": "python3"
  },
  "language_info": {
   "codemirror_mode": {
    "name": "ipython",
    "version": 3
   },
   "file_extension": ".py",
   "mimetype": "text/x-python",
   "name": "python",
   "nbconvert_exporter": "python",
   "pygments_lexer": "ipython3",
   "version": "3.8.5"
  }
 },
 "nbformat": 4,
 "nbformat_minor": 5
}
