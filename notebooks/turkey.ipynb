{
 "cells": [
  {
   "cell_type": "markdown",
   "id": "de9f67fa",
   "metadata": {},
   "source": [
    "## EM Turkey ##\n",
    "### relationship between currency rate - inflation - stockexchange ###\n",
    "\n",
    "an attempt to use free available data sources, and to investigate if there is any predictive aspect to this\n",
    "\n",
    "\n",
    "- The parameter that is lacking, is politics. (howto to quantify this?)\n",
    "- There has been a sell off of foreign currency reserve by the turkish bank (not announced), howto detect?\n",
    "\n",
    "$$\\alpha\\beta\\gamma\\Delta\\Gamma$$"
   ]
  },
  {
   "cell_type": "code",
   "execution_count": 1,
   "id": "f92e4fef",
   "metadata": {},
   "outputs": [],
   "source": [
    "import requests     # 2.18.4\n",
    "import pandas as pd # 0.23.0\n",
    "import io\n",
    "import datetime"
   ]
  },
  {
   "cell_type": "code",
   "execution_count": 2,
   "id": "868cc237",
   "metadata": {},
   "outputs": [
    {
     "name": "stdout",
     "output_type": "stream",
     "text": [
      "2022-01-05\n"
     ]
    }
   ],
   "source": [
    "today = datetime.datetime.now().strftime('%Y-%m-%d')\n",
    "print (today)"
   ]
  },
  {
   "cell_type": "code",
   "execution_count": 3,
   "id": "0ea965cc",
   "metadata": {},
   "outputs": [],
   "source": [
    "# Building blocks for the URL\n",
    "entrypoint = 'https://sdw-wsrest.ecb.europa.eu/service/' # Using protocol 'https'\n",
    "resource = 'data'           # The resource for data queries is always'data'\n",
    "flowRef ='EXR'              # Dataflow describing the data that needs to be returned, exchange rates in this case\n",
    "key = 'D.TRY.EUR.SP00.A'    # Defining the dimension values, explained below\n",
    "\n",
    "# Define the parameters\n",
    "parameters = {\n",
    "    'startPeriod': '2021-12-01',  # Start date of the time series\n",
    "#    'endPeriod': '2021-12-29'     # End of the time series\n",
    "    'endPeriod': today     # End of the time series\n",
    "}"
   ]
  },
  {
   "cell_type": "code",
   "execution_count": 4,
   "id": "b904aa0f",
   "metadata": {},
   "outputs": [
    {
     "name": "stdout",
     "output_type": "stream",
     "text": [
      "<Response [200]>\n",
      "https://sdw-wsrest.ecb.europa.eu/service/data/EXR/D.TRY.EUR.SP00.A?startPeriod=2021-12-01&endPeriod=2022-01-05\n"
     ]
    }
   ],
   "source": [
    "# Construct the URL: https://sdw-wsrest.ecb.europa.eu/service/data/EXR/D.CHF.EUR.SP00.A\n",
    "request_url = entrypoint + resource + '/'+ flowRef + '/' + key\n",
    "\n",
    "# Make the HTTP request\n",
    "response = requests.get(request_url, params=parameters)\n",
    "\n",
    "# Check if the response returns succesfully with response code 200\n",
    "print(response)\n",
    "\n",
    "# Print the full URL\n",
    "print(response.url)"
   ]
  },
  {
   "cell_type": "code",
   "execution_count": 5,
   "id": "ad23c89c",
   "metadata": {},
   "outputs": [
    {
     "name": "stdout",
     "output_type": "stream",
     "text": [
      "<?xml version=\"1.0\" encoding=\"UTF-8\"?><message:GenericData xmlns:message=\"http://www.sdmx.org/resources/sdmxml/schemas/v2_1/message\" xmlns:common=\"http://www.sdmx.org/resources/sdmxml/schemas/v2_1/common\" xmlns:xsi=\"http://www.w3.org/2001/XMLSchema-instance\" xmlns:generic=\"http://www.sdmx.org/resources/sdmxml/schemas/v2_1/data/generic\" xsi:schemaLocation=\"http://www.sdmx.org/resources/sdmxml/schemas/v2_1/message https://sdw-wsrest.ecb.europa.eu:443/vocabulary/sdmx/2_1/SDMXMessage.xsd http://www.sdmx.org/resources/sdmxml/schemas/v2_1/common https://sdw-wsrest.ecb.europa.eu:443/vocabulary/sdmx/2_1/SDMXCommon.xsd http://www.sdmx.org/resources/sdmxml/schemas/v2_1/data/generic https://sdw-wsrest.ecb.europa.eu:443/vocabulary/sdmx/2_1/SDMXDataGeneric.xsd\">\n",
      "<message:Header>\n",
      "<message:ID>9cb6ad07-0faf-4300-8eb1-78d7668fd41b</message:ID>\n",
      "<message:Test>false</message:Test>\n",
      "<message:Prepared>2022-01-05T10:59:58.534+01:00</message:Prepared>\n",
      "<message:Sender id=\"ECB\"/>\n",
      "<message:Structure structureID=\"\n"
     ]
    }
   ],
   "source": [
    "# Print the first 1000 characters of the response\n",
    "print(response.text[0:1000])"
   ]
  },
  {
   "cell_type": "markdown",
   "id": "55d4afbb",
   "metadata": {},
   "source": [
    "Hmmm, the response is in XML. Not impossible, but also not the easiest format to work within Pandas. Fortunately, the ECB's API lets us get the data in CSV format by specifying it in the header of the request."
   ]
  },
  {
   "cell_type": "code",
   "execution_count": 6,
   "id": "b96bde7e",
   "metadata": {},
   "outputs": [
    {
     "name": "stdout",
     "output_type": "stream",
     "text": [
      "<Response [200]>\n"
     ]
    }
   ],
   "source": [
    "# Make the HTTP request again, now requesting for CSV format\n",
    "response = requests.get(request_url, params=parameters, headers={'Accept': 'text/csv'})\n",
    "# Response succesful? (Response code 200)\n",
    "print(response)"
   ]
  },
  {
   "cell_type": "code",
   "execution_count": 7,
   "id": "0229f10b",
   "metadata": {},
   "outputs": [],
   "source": [
    "# Print the first 1000 characters to inspect the response\n",
    "#response.text[0:1000]"
   ]
  },
  {
   "cell_type": "code",
   "execution_count": 8,
   "id": "37a5ed87",
   "metadata": {},
   "outputs": [],
   "source": [
    "# Read the response as a file into a Pandas DataFrame\n",
    "df = pd.read_csv(io.StringIO(response.text))"
   ]
  },
  {
   "cell_type": "code",
   "execution_count": 9,
   "id": "fd005a5d",
   "metadata": {},
   "outputs": [],
   "source": [
    "#df"
   ]
  },
  {
   "cell_type": "code",
   "execution_count": 10,
   "id": "aab424f1",
   "metadata": {},
   "outputs": [],
   "source": [
    "# Check the DataFrame's information\n",
    "#df.info()"
   ]
  },
  {
   "cell_type": "code",
   "execution_count": 11,
   "id": "96eff6e6",
   "metadata": {},
   "outputs": [],
   "source": [
    "# Show the last 5 entries of the DataFrame\n",
    "#df.tail()"
   ]
  },
  {
   "cell_type": "markdown",
   "id": "58d90184",
   "metadata": {},
   "source": [
    "The columns we need are 'TIME_PERIOD' for the dates and 'OBS_VALUE' for the prices. Let's also do a sanity check on the prices in 'OBS_VALUE'."
   ]
  },
  {
   "cell_type": "code",
   "execution_count": 12,
   "id": "a21d3cc8",
   "metadata": {},
   "outputs": [
    {
     "data": {
      "text/plain": [
       "count    25.000000\n",
       "mean     15.380752\n",
       "std       1.712679\n",
       "min      12.652500\n",
       "25%      14.713200\n",
       "50%      15.293700\n",
       "75%      15.690800\n",
       "max      20.043400\n",
       "Name: OBS_VALUE, dtype: float64"
      ]
     },
     "execution_count": 12,
     "metadata": {},
     "output_type": "execute_result"
    }
   ],
   "source": [
    "# Inspect the prices. Do the mean, minimum and maximum make sense?\n",
    "df['OBS_VALUE'].describe()"
   ]
  },
  {
   "cell_type": "code",
   "execution_count": 13,
   "id": "3f057d43",
   "metadata": {},
   "outputs": [
    {
     "data": {
      "text/html": [
       "<div>\n",
       "<style scoped>\n",
       "    .dataframe tbody tr th:only-of-type {\n",
       "        vertical-align: middle;\n",
       "    }\n",
       "\n",
       "    .dataframe tbody tr th {\n",
       "        vertical-align: top;\n",
       "    }\n",
       "\n",
       "    .dataframe thead th {\n",
       "        text-align: right;\n",
       "    }\n",
       "</style>\n",
       "<table border=\"1\" class=\"dataframe\">\n",
       "  <thead>\n",
       "    <tr style=\"text-align: right;\">\n",
       "      <th></th>\n",
       "      <th>OBS_VALUE</th>\n",
       "    </tr>\n",
       "    <tr>\n",
       "      <th>TIME_PERIOD</th>\n",
       "      <th></th>\n",
       "    </tr>\n",
       "  </thead>\n",
       "  <tbody>\n",
       "    <tr>\n",
       "      <th>2021-12-22</th>\n",
       "      <td>14.0719</td>\n",
       "    </tr>\n",
       "    <tr>\n",
       "      <th>2021-12-23</th>\n",
       "      <td>12.6525</td>\n",
       "    </tr>\n",
       "    <tr>\n",
       "      <th>2021-12-24</th>\n",
       "      <td>13.2402</td>\n",
       "    </tr>\n",
       "    <tr>\n",
       "      <th>2021-12-27</th>\n",
       "      <td>12.8099</td>\n",
       "    </tr>\n",
       "    <tr>\n",
       "      <th>2021-12-28</th>\n",
       "      <td>13.3521</td>\n",
       "    </tr>\n",
       "    <tr>\n",
       "      <th>2021-12-29</th>\n",
       "      <td>14.1525</td>\n",
       "    </tr>\n",
       "    <tr>\n",
       "      <th>2021-12-30</th>\n",
       "      <td>14.7184</td>\n",
       "    </tr>\n",
       "    <tr>\n",
       "      <th>2021-12-31</th>\n",
       "      <td>15.2335</td>\n",
       "    </tr>\n",
       "    <tr>\n",
       "      <th>2022-01-03</th>\n",
       "      <td>15.0777</td>\n",
       "    </tr>\n",
       "    <tr>\n",
       "      <th>2022-01-04</th>\n",
       "      <td>15.1384</td>\n",
       "    </tr>\n",
       "  </tbody>\n",
       "</table>\n",
       "</div>"
      ],
      "text/plain": [
       "             OBS_VALUE\n",
       "TIME_PERIOD           \n",
       "2021-12-22     14.0719\n",
       "2021-12-23     12.6525\n",
       "2021-12-24     13.2402\n",
       "2021-12-27     12.8099\n",
       "2021-12-28     13.3521\n",
       "2021-12-29     14.1525\n",
       "2021-12-30     14.7184\n",
       "2021-12-31     15.2335\n",
       "2022-01-03     15.0777\n",
       "2022-01-04     15.1384"
      ]
     },
     "execution_count": 13,
     "metadata": {},
     "output_type": "execute_result"
    }
   ],
   "source": [
    "# Create a new DataFrame called 'ts'\n",
    "ts = df.filter(['TIME_PERIOD', 'OBS_VALUE'], axis=1)\n",
    "# 'TIME_PERIOD' was of type 'object' (as seen in df.info). Convert it to datetime first\n",
    "ts['TIME_PERIOD'] = pd.to_datetime(ts['TIME_PERIOD'])\n",
    "# Set 'TIME_PERIOD' to be the index\n",
    "ts = ts.set_index('TIME_PERIOD')\n",
    "# Print the last 5 rows to screen\n",
    "ts.tail(10)"
   ]
  },
  {
   "cell_type": "markdown",
   "id": "4bc41a1d",
   "metadata": {},
   "source": [
    "the spike is the FX - market is 2021-12-20 where you get\t20.0434 Lira for 1 Euro."
   ]
  },
  {
   "cell_type": "code",
   "execution_count": 14,
   "id": "afb425de",
   "metadata": {},
   "outputs": [
    {
     "data": {
      "text/plain": [
       "<AxesSubplot:xlabel='TIME_PERIOD'>"
      ]
     },
     "execution_count": 14,
     "metadata": {},
     "output_type": "execute_result"
    },
    {
     "data": {
      "image/png": "[encoded data removed]",
      "text/plain": [
       "<Figure size 432x288 with 1 Axes>"
      ]
     },
     "metadata": {
      "needs_background": "light"
     },
     "output_type": "display_data"
    }
   ],
   "source": [
    "%matplotlib inline\n",
    "ts.plot()"
   ]
  },
  {
   "cell_type": "markdown",
   "id": "4ad78abc",
   "metadata": {},
   "source": [
    "Turkish lira against EURO - data taken from ECB, you can see a spike at december 20th.\n",
    "Subsequently there is an intervention from the Turkish national bank, supporting the Turkish lira : \n",
    "- statement by president Erdogan\n",
    "- sell of foreign reserves\n",
    "\n",
    "The new deposit scheme, called byBloomberg a rate increase in disguise, could be short-term gain and long\u0002term pain, as the mechanism basically transfers FX risks from the private sector to the government, with the\n",
    "latter guaranteeing depositor’s returns by covering any losses caused by a depreciation in the lira, as long as\n",
    "those losses exceed the bank’s interest rates. This in eAect creates a liability for the government, which would\n",
    "come back to bite in case the lira weakens again. To make matters worse, authorities might choose to monetize\n",
    "the obligation, thus putting more pressure on inCation and the lira, creating a vicious cycle that could get out of\n",
    "\n",
    "Summarizing, Turkey’s outlook includes more inflation, more long-term currency depreciation and no interest\n",
    "rate hikes to correct these moves; on the contrary, it looks like the president will continue to blame everybody\n",
    "and everything else but his beliefs. Brace yourself, Turkey.\n"
   ]
  },
  {
   "cell_type": "markdown",
   "id": "5a70f70b",
   "metadata": {},
   "source": [
    "Now we import data from the turkish stock exchange, we use the iShares MSCI Turkey."
   ]
  },
  {
   "cell_type": "code",
   "execution_count": 15,
   "id": "2f947343",
   "metadata": {},
   "outputs": [],
   "source": [
    "import yfinance as yf"
   ]
  },
  {
   "cell_type": "code",
   "execution_count": 16,
   "id": "1fd5fcf9",
   "metadata": {},
   "outputs": [
    {
     "name": "stdout",
     "output_type": "stream",
     "text": [
      "[*********************100%***********************]  1 of 1 completed\n"
     ]
    },
    {
     "data": {
      "text/html": [
       "<div>\n",
       "<style scoped>\n",
       "    .dataframe tbody tr th:only-of-type {\n",
       "        vertical-align: middle;\n",
       "    }\n",
       "\n",
       "    .dataframe tbody tr th {\n",
       "        vertical-align: top;\n",
       "    }\n",
       "\n",
       "    .dataframe thead th {\n",
       "        text-align: right;\n",
       "    }\n",
       "</style>\n",
       "<table border=\"1\" class=\"dataframe\">\n",
       "  <thead>\n",
       "    <tr style=\"text-align: right;\">\n",
       "      <th></th>\n",
       "      <th>Open</th>\n",
       "      <th>High</th>\n",
       "      <th>Low</th>\n",
       "      <th>Close</th>\n",
       "      <th>Adj Close</th>\n",
       "      <th>Volume</th>\n",
       "    </tr>\n",
       "    <tr>\n",
       "      <th>Date</th>\n",
       "      <th></th>\n",
       "      <th></th>\n",
       "      <th></th>\n",
       "      <th></th>\n",
       "      <th></th>\n",
       "      <th></th>\n",
       "    </tr>\n",
       "  </thead>\n",
       "  <tbody>\n",
       "    <tr>\n",
       "      <th>2021-12-21</th>\n",
       "      <td>19.500000</td>\n",
       "      <td>19.850000</td>\n",
       "      <td>18.430000</td>\n",
       "      <td>19.379999</td>\n",
       "      <td>19.379999</td>\n",
       "      <td>2271800</td>\n",
       "    </tr>\n",
       "    <tr>\n",
       "      <th>2021-12-22</th>\n",
       "      <td>19.379999</td>\n",
       "      <td>19.549999</td>\n",
       "      <td>18.620001</td>\n",
       "      <td>18.980000</td>\n",
       "      <td>18.980000</td>\n",
       "      <td>557400</td>\n",
       "    </tr>\n",
       "    <tr>\n",
       "      <th>2021-12-23</th>\n",
       "      <td>20.799999</td>\n",
       "      <td>21.690001</td>\n",
       "      <td>20.459999</td>\n",
       "      <td>20.900000</td>\n",
       "      <td>20.900000</td>\n",
       "      <td>1899200</td>\n",
       "    </tr>\n",
       "    <tr>\n",
       "      <th>2021-12-27</th>\n",
       "      <td>21.799999</td>\n",
       "      <td>22.090000</td>\n",
       "      <td>21.620001</td>\n",
       "      <td>21.719999</td>\n",
       "      <td>21.719999</td>\n",
       "      <td>1162300</td>\n",
       "    </tr>\n",
       "    <tr>\n",
       "      <th>2021-12-28</th>\n",
       "      <td>20.700001</td>\n",
       "      <td>21.010000</td>\n",
       "      <td>20.510000</td>\n",
       "      <td>20.690001</td>\n",
       "      <td>20.690001</td>\n",
       "      <td>395300</td>\n",
       "    </tr>\n",
       "    <tr>\n",
       "      <th>2021-12-29</th>\n",
       "      <td>20.100000</td>\n",
       "      <td>20.410000</td>\n",
       "      <td>19.610001</td>\n",
       "      <td>20.059999</td>\n",
       "      <td>20.059999</td>\n",
       "      <td>390300</td>\n",
       "    </tr>\n",
       "    <tr>\n",
       "      <th>2021-12-30</th>\n",
       "      <td>19.389999</td>\n",
       "      <td>19.420000</td>\n",
       "      <td>18.660000</td>\n",
       "      <td>18.990000</td>\n",
       "      <td>18.990000</td>\n",
       "      <td>768100</td>\n",
       "    </tr>\n",
       "    <tr>\n",
       "      <th>2021-12-31</th>\n",
       "      <td>18.809999</td>\n",
       "      <td>18.900000</td>\n",
       "      <td>18.299999</td>\n",
       "      <td>18.580000</td>\n",
       "      <td>18.580000</td>\n",
       "      <td>790500</td>\n",
       "    </tr>\n",
       "    <tr>\n",
       "      <th>2022-01-03</th>\n",
       "      <td>19.309999</td>\n",
       "      <td>20.469999</td>\n",
       "      <td>19.190001</td>\n",
       "      <td>19.990000</td>\n",
       "      <td>19.990000</td>\n",
       "      <td>1607000</td>\n",
       "    </tr>\n",
       "    <tr>\n",
       "      <th>2022-01-04</th>\n",
       "      <td>19.700001</td>\n",
       "      <td>19.830000</td>\n",
       "      <td>19.299999</td>\n",
       "      <td>19.620001</td>\n",
       "      <td>19.620001</td>\n",
       "      <td>305200</td>\n",
       "    </tr>\n",
       "  </tbody>\n",
       "</table>\n",
       "</div>"
      ],
      "text/plain": [
       "                 Open       High        Low      Close  Adj Close   Volume\n",
       "Date                                                                      \n",
       "2021-12-21  19.500000  19.850000  18.430000  19.379999  19.379999  2271800\n",
       "2021-12-22  19.379999  19.549999  18.620001  18.980000  18.980000   557400\n",
       "2021-12-23  20.799999  21.690001  20.459999  20.900000  20.900000  1899200\n",
       "2021-12-27  21.799999  22.090000  21.620001  21.719999  21.719999  1162300\n",
       "2021-12-28  20.700001  21.010000  20.510000  20.690001  20.690001   395300\n",
       "2021-12-29  20.100000  20.410000  19.610001  20.059999  20.059999   390300\n",
       "2021-12-30  19.389999  19.420000  18.660000  18.990000  18.990000   768100\n",
       "2021-12-31  18.809999  18.900000  18.299999  18.580000  18.580000   790500\n",
       "2022-01-03  19.309999  20.469999  19.190001  19.990000  19.990000  1607000\n",
       "2022-01-04  19.700001  19.830000  19.299999  19.620001  19.620001   305200"
      ]
     },
     "execution_count": 16,
     "metadata": {},
     "output_type": "execute_result"
    }
   ],
   "source": [
    "dft = yf.download(\"TUR\",start='2021-12-01',end=today)\n",
    "#dft.info()\n",
    "dft.tail(10)"
   ]
  },
  {
   "cell_type": "markdown",
   "id": "75afddc6",
   "metadata": {},
   "source": [
    "you can see : 2021-12-20 a\t15.290000 low, which is same date as currency hike.\n",
    "**hypothesis:** somebody is closely watching exchange rate on spot market and hits \"sell-button\" on stock-exchange?"
   ]
  },
  {
   "cell_type": "code",
   "execution_count": 17,
   "id": "826363d4",
   "metadata": {},
   "outputs": [],
   "source": [
    "#guess if you want to buy Low is more informative than high ;)\n",
    "dftfil=dft.filter(['Low'])"
   ]
  },
  {
   "cell_type": "code",
   "execution_count": 18,
   "id": "6e331fc9",
   "metadata": {},
   "outputs": [
    {
     "data": {
      "text/plain": [
       "<AxesSubplot:xlabel='Date'>"
      ]
     },
     "execution_count": 18,
     "metadata": {},
     "output_type": "execute_result"
    },
    {
     "data": {
      "image/png": "[encoded data removed]",
      "text/plain": [
       "<Figure size 432x288 with 1 Axes>"
      ]
     },
     "metadata": {
      "needs_background": "light"
     },
     "output_type": "display_data"
    }
   ],
   "source": [
    "#%matplotlib inline\n",
    "dftfil.plot()"
   ]
  },
  {
   "cell_type": "markdown",
   "id": "15ff069e",
   "metadata": {},
   "source": [
    "*graph is turkish MSCI index in dollar*"
   ]
  },
  {
   "cell_type": "code",
   "execution_count": 19,
   "id": "a7414042",
   "metadata": {},
   "outputs": [
    {
     "name": "stdout",
     "output_type": "stream",
     "text": [
      "[*********************100%***********************]  1 of 1 completed\n"
     ]
    },
    {
     "data": {
      "text/plain": [
       "<AxesSubplot:xlabel='Date'>"
      ]
     },
     "execution_count": 19,
     "metadata": {},
     "output_type": "execute_result"
    },
    {
     "data": {
      "image/png": "[encoded data removed]",
      "text/plain": [
       "<Figure size 432x288 with 1 Axes>"
      ]
     },
     "metadata": {
      "needs_background": "light"
     },
     "output_type": "display_data"
    }
   ],
   "source": [
    "#istambul xu100 stock exchange price in LIRA\n",
    "dftis = yf.download(\"XU100.IS\",start='2021-12-01',end=today)\n",
    "dftfilis =dftis.filter(['Low'])\n",
    "dftfilis.plot()"
   ]
  },
  {
   "cell_type": "markdown",
   "id": "b7143c0a",
   "metadata": {},
   "source": [
    "in order to get inflation data (which is probably even higher) a technique \"webscraping\" is used"
   ]
  },
  {
   "cell_type": "code",
   "execution_count": 20,
   "id": "4a82f42f",
   "metadata": {},
   "outputs": [
    {
     "name": "stdout",
     "output_type": "stream",
     "text": [
      "<Response [200]>\n",
      "test\n"
     ]
    }
   ],
   "source": [
    "# Making a GET request\n",
    "import requests  \n",
    "r = requests.get('https://www.tcmb.gov.tr/wps/wcm/connect/EN/TCMB+EN/Main+Menu/Statistics/Inflation+Data/Consumer+Prices')\n",
    "#r = requests.get('http://www.worldgovernmentbonds.com/bond-forecast/turkey/1-year/')\n",
    "# check status code for response received\n",
    "# success code - 200\n",
    "print(r)\n",
    "print (\"test\")"
   ]
  },
  {
   "cell_type": "code",
   "execution_count": 21,
   "id": "0762df30",
   "metadata": {},
   "outputs": [],
   "source": [
    "# print content of request\n",
    "#print(r.content)\n",
    "# seems unusable"
   ]
  },
  {
   "cell_type": "markdown",
   "id": "dd467b60",
   "metadata": {},
   "source": [
    "Credit Default Swaps – different types\n",
    "for CDS on ABS - continued\n",
    "- Fixed Cap: Maximum amount that the protection seller \n",
    "has to pay buyer is the Fixed Rate\n",
    "- Variable Cap: Protection seller has to make up any \n",
    "interest shortfall on the bond up to LIBOR plus the \n",
    "Fixed Rate\n",
    "- No Cap: Protection seller has to make up any interest \n",
    "shortfall on the bond\n"
   ]
  },
  {
   "cell_type": "markdown",
   "id": "bc8954eb",
   "metadata": {},
   "source": [
    "*is there a way to get a headstart in information about currency : libor rate, cds ... ?*"
   ]
  },
  {
   "cell_type": "code",
   "execution_count": null,
   "id": "8da3856a",
   "metadata": {},
   "outputs": [],
   "source": []
  }
 ],
 "metadata": {
  "kernelspec": {
   "display_name": "Python 3 (ipykernel)",
   "language": "python",
   "name": "python3"
  },
  "language_info": {
   "codemirror_mode": {
    "name": "ipython",
    "version": 3
   },
   "file_extension": ".py",
   "mimetype": "text/x-python",
   "name": "python",
   "nbconvert_exporter": "python",
   "pygments_lexer": "ipython3",
   "version": "3.8.5"
  }
 },
 "nbformat": 4,
 "nbformat_minor": 5
}
