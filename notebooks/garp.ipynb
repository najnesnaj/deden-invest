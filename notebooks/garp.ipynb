{
 "cells": [
  {
   "cell_type": "markdown",
   "id": "a9fc03f4",
   "metadata": {},
   "source": [
    "* growth at a reasonable price *"
   ]
  },
  {
   "cell_type": "code",
   "execution_count": null,
   "id": "c731f91f",
   "metadata": {},
   "outputs": [],
   "source": [
    "import sqlite3"
   ]
  },
  {
   "cell_type": "code",
   "execution_count": null,
   "id": "a522f6f6",
   "metadata": {},
   "outputs": [],
   "source": [
    "conn = sqlite3.connect('../GARP/garpstock/garp.db')"
   ]
  },
  {
   "cell_type": "code",
   "execution_count": null,
   "id": "8cbb7f2b",
   "metadata": {},
   "outputs": [],
   "source": [
    "curs = conn.cursor()"
   ]
  },
  {
   "cell_type": "code",
   "execution_count": null,
   "id": "ddfdbdfb",
   "metadata": {},
   "outputs": [],
   "source": [
    "curs.execute(\"SELECT * from garpinfo where \\\"symbol\\\" = \\\"SOF.BR\\\";\").fetchall()"
   ]
  },
  {
   "cell_type": "code",
   "execution_count": null,
   "id": "6e28f07a",
   "metadata": {},
   "outputs": [],
   "source": []
  }
 ],
 "metadata": {
  "kernelspec": {
   "display_name": "Python 3",
   "language": "python",
   "name": "python3"
  }
 },
 "nbformat": 4,
 "nbformat_minor": 5
}
