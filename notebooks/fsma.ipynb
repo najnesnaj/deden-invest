{
 "cells": [
  {
   "cell_type": "code",
   "execution_count": null,
   "id": "c685e99b",
   "metadata": {},
   "outputs": [],
   "source": [
    "import sqlite3"
   ]
  },
  {
   "cell_type": "code",
   "execution_count": null,
   "id": "d3f5d4b6",
   "metadata": {},
   "outputs": [],
   "source": [
    "conn = sqlite3.connect('sample2.sqlite')"
   ]
  },
  {
   "cell_type": "code",
   "execution_count": null,
   "id": "d9aeb4b8",
   "metadata": {},
   "outputs": [],
   "source": [
    "curs = conn.cursor()"
   ]
  },
  {
   "cell_type": "code",
   "execution_count": null,
   "id": "34617d9e",
   "metadata": {},
   "outputs": [],
   "source": [
    "curs.execute(\"SELECT * from analyse1;\").fetchall()"
   ]
  },
  {
   "cell_type": "code",
   "execution_count": null,
   "id": "2560c124",
   "metadata": {},
   "outputs": [],
   "source": []
  }
 ],
 "metadata": {
  "kernelspec": {
   "display_name": "Python 3",
   "language": "python",
   "name": "python3"
  }
 },
 "nbformat": 4,
 "nbformat_minor": 5
}
